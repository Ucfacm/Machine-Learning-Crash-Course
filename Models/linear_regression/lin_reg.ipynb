{
 "cells": [
  {
   "cell_type": "markdown",
   "metadata": {},
   "source": [
    "# Linear Regression Model 1"
   ]
  },
  {
   "cell_type": "markdown",
   "metadata": {},
   "source": [
    "These imports are utalized in the code below. Each import has a different use and all are common in machine learning.\n",
    "- Pandas: Pandas is used to make and use dataframes, as well as accessing csv files, also commonly refered to as excel files or google doc files.\n",
    "- Numpy: Numpy is a collection of mathematic functions commonly imported for linear algebra, but is also used for other common math functions like square root as shown below.\n",
    "- Sklearn: Sklearn is a very large import, and we are using it today to specifically split the data in to test data and training data and to compute mean_squared_error and R^2 score.\n",
    "- Matplotlib: Matplotlib is used to plot graphs in python. Very useful for visualizing data."
   ]
  },
  {
   "cell_type": "code",
   "execution_count": 57,
   "metadata": {},
   "outputs": [],
   "source": [
    "import pandas as pd\n",
    "import numpy as np\n",
    "from sklearn.model_selection import train_test_split\n",
    "from sklearn.metrics import mean_squared_error, r2_score\n",
    "import matplotlib.pyplot as plt"
   ]
  },
  {
   "cell_type": "markdown",
   "metadata": {},
   "source": [
    "From here, a linear regression model will be built and tested. Linear regression attempts to draw a line of best fit, and then uses that line to predict data correlation.\n",
    "\n",
    "The first thing to do is to extract the data from a csv file. In this example, winequality-red.csv is used. Its a dataset of red wine with different attributes and its quality.  \n",
    "You can see below after pulling data from the csv file that the colums are printed, as well as some of the data. You can also view csv files right in vscode if you install a csv  \n",
    "file extension."
   ]
  },
  {
   "cell_type": "code",
   "execution_count": 58,
   "metadata": {},
   "outputs": [
    {
     "name": "stdout",
     "output_type": "stream",
     "text": [
      "<class 'pandas.core.frame.DataFrame'>\n",
      "RangeIndex: 1599 entries, 0 to 1598\n",
      "Data columns (total 12 columns):\n",
      " #   Column                Non-Null Count  Dtype  \n",
      "---  ------                --------------  -----  \n",
      " 0   fixed acidity         1599 non-null   float64\n",
      " 1   volatile acidity      1599 non-null   float64\n",
      " 2   citric acid           1599 non-null   float64\n",
      " 3   residual sugar        1599 non-null   float64\n",
      " 4   chlorides             1599 non-null   float64\n",
      " 5   free sulfur dioxide   1599 non-null   float64\n",
      " 6   total sulfur dioxide  1599 non-null   float64\n",
      " 7   density               1599 non-null   float64\n",
      " 8   pH                    1599 non-null   float64\n",
      " 9   sulphates             1599 non-null   float64\n",
      " 10  alcohol               1599 non-null   float64\n",
      " 11  quality               1599 non-null   int64  \n",
      "dtypes: float64(11), int64(1)\n",
      "memory usage: 150.0 KB\n",
      "None\n",
      "   fixed acidity  volatile acidity  citric acid  residual sugar  chlorides  \\\n",
      "0            7.4              0.70         0.00             1.9      0.076   \n",
      "1            7.8              0.88         0.00             2.6      0.098   \n",
      "2            7.8              0.76         0.04             2.3      0.092   \n",
      "3           11.2              0.28         0.56             1.9      0.075   \n",
      "4            7.4              0.70         0.00             1.9      0.076   \n",
      "\n",
      "   free sulfur dioxide  total sulfur dioxide  density    pH  sulphates  \\\n",
      "0                 11.0                  34.0   0.9978  3.51       0.56   \n",
      "1                 25.0                  67.0   0.9968  3.20       0.68   \n",
      "2                 15.0                  54.0   0.9970  3.26       0.65   \n",
      "3                 17.0                  60.0   0.9980  3.16       0.58   \n",
      "4                 11.0                  34.0   0.9978  3.51       0.56   \n",
      "\n",
      "   alcohol  quality  \n",
      "0      9.4        5  \n",
      "1      9.8        5  \n",
      "2      9.8        5  \n",
      "3      9.8        6  \n",
      "4      9.4        5  \n"
     ]
    }
   ],
   "source": [
    "data = pd.read_csv('winequality-red.csv')\n",
    "print(data.info())\n",
    "print(data.head())"
   ]
  },
  {
   "cell_type": "markdown",
   "metadata": {},
   "source": [
    "The data is now separated into x and y data. Our x data is everything that we will use to predict the y data. In this case, quality is the prediction we want to infer from the rest of the  \n",
    "csv file, so x will have everything but quality and y will have quality. This can be seperated easily by using the drop method. Below you can see data.drop('quality', axis = 1) will return  \n",
    "all columns exept quality. with that, the added .values will only return the values, or data, and this can be set equal to x.  \n",
    "y is the inverse, where we want only quality's values, so data['quality'] will give us the quality column, and the added .values returns only values."
   ]
  },
  {
   "cell_type": "code",
   "execution_count": 59,
   "metadata": {},
   "outputs": [
    {
     "name": "stdout",
     "output_type": "stream",
     "text": [
      "[[ 7.4    0.7    0.    ...  3.51   0.56   9.4  ]\n",
      " [ 7.8    0.88   0.    ...  3.2    0.68   9.8  ]\n",
      " [ 7.8    0.76   0.04  ...  3.26   0.65   9.8  ]\n",
      " ...\n",
      " [ 6.3    0.51   0.13  ...  3.42   0.75  11.   ]\n",
      " [ 5.9    0.645  0.12  ...  3.57   0.71  10.2  ]\n",
      " [ 6.     0.31   0.47  ...  3.39   0.66  11.   ]] \n",
      "\n",
      "[5 5 5 ... 6 5 6]\n"
     ]
    }
   ],
   "source": [
    "x = data.drop('quality', axis=1).values\n",
    "y = data['quality'].values\n",
    "\n",
    "print(x, '\\n')\n",
    "print(y)"
   ]
  },
  {
   "cell_type": "markdown",
   "metadata": {},
   "source": [
    "To add in the process of learning, a bias term is added. This adds a consistent term to every row of the matrix so that the variance in the dataset is diminished. With high variance, it can be hard\n",
    "for the model to properly predict, and extranious data or outliers will have a greater affect on the data. The larger the bias, the more it 'flattens' the data, and makes differences mean less. Here  \n",
    "is a great article by geeksforgeeks.org that talks about the bias variance balance\n",
    "\n",
    "https://www.geeksforgeeks.org/bias-vs-variance-in-machine-learning/"
   ]
  },
  {
   "cell_type": "code",
   "execution_count": 60,
   "metadata": {},
   "outputs": [
    {
     "name": "stdout",
     "output_type": "stream",
     "text": [
      "[[ 1.     7.4    0.7   ...  3.51   0.56   9.4  ]\n",
      " [ 1.     7.8    0.88  ...  3.2    0.68   9.8  ]\n",
      " [ 1.     7.8    0.76  ...  3.26   0.65   9.8  ]\n",
      " ...\n",
      " [ 1.     6.3    0.51  ...  3.42   0.75  11.   ]\n",
      " [ 1.     5.9    0.645 ...  3.57   0.71  10.2  ]\n",
      " [ 1.     6.     0.31  ...  3.39   0.66  11.   ]]\n"
     ]
    }
   ],
   "source": [
    "x_bias = np.c_[np.ones((len(x), 1)), x]\n",
    "print(x_bias)"
   ]
  },
  {
   "cell_type": "markdown",
   "metadata": {},
   "source": [
    "The data is now separated into training and testing data. This is because we cannot use our training data to test the model, as this is the data we gave the y values for. It would be like giving you a homework assignment  \n",
    "on multiplication, then using the exact same problems from the homework on the test! You would be able to perform well because of memory, and your multiplication capabilities would not be tested. Same with our model, it\n",
    "would be able to perform well do to its weights being formulated for the same data, and of course it would perform well. We need to see how it performs when it gets data it has not seen before."
   ]
  },
  {
   "cell_type": "code",
   "execution_count": 61,
   "metadata": {},
   "outputs": [
    {
     "name": "stdout",
     "output_type": "stream",
     "text": [
      "[[ 1.    8.7   0.69 ...  3.48  0.74 11.6 ]\n",
      " [ 1.    6.1   0.21 ...  3.25  0.59 11.9 ]\n",
      " [ 1.   10.9   0.39 ...  3.3   0.75  9.8 ]\n",
      " ...\n",
      " [ 1.    7.2   0.62 ...  3.51  0.54  9.5 ]\n",
      " [ 1.    7.9   0.2  ...  3.32  0.8  11.9 ]\n",
      " [ 1.    5.8   0.29 ...  3.39  0.54 13.5 ]]\n",
      "[[ 1.     7.7    0.56  ...  3.24   0.66   9.6  ]\n",
      " [ 1.     7.8    0.5   ...  3.39   0.48   9.5  ]\n",
      " [ 1.    10.7    0.67  ...  3.28   0.98   9.9  ]\n",
      " ...\n",
      " [ 1.     8.3    0.6   ...  3.15   0.53   9.8  ]\n",
      " [ 1.     8.8    0.27  ...  3.15   0.69  11.2  ]\n",
      " [ 1.     9.1    0.765 ...  3.29   0.54   9.7  ]]\n",
      "[6 6 6 ... 5 7 6]\n",
      "[6 5 6 5 6 5 5 5 5 6 7 3 5 5 6 7 5 7 8 5 5 6 5 6 6 6 7 6 5 6 5 5 6 5 6 5 7\n",
      " 5 4 6 5 5 7 5 5 6 7 6 5 6 5 5 5 7 6 6 6 5 5 5 5 7 5 6 6 5 6 5 6 5 6 4 6 6\n",
      " 6 5 8 5 6 6 5 6 5 6 6 7 5 6 7 4 7 6 5 5 5 6 5 6 5 6 5 5 5 7 6 7 6 5 6 5 8\n",
      " 5 6 5 6 7 6 6 5 6 6 6 6 6 6 6 7 6 5 5 6 5 5 5 6 5 5 5 5 6 7 6 8 5 5 5 6 6\n",
      " 6 5 6 7 6 5 6 5 5 6 6 6 7 5 7 5 5 5 6 6 5 5 6 5 7 6 7 6 6 5 5 6 4 6 5 7 5\n",
      " 5 4 5 7 6 5 6 6 7 6 5 5 6 5 7 5 6 6 5 7 5 5 5 6 7 7 5 5 6 6 7 6 5 6 6 6 6\n",
      " 6 7 4 5 5 7 5 5 5 5 6 6 5 7 5 6 6 6 5 4 6 7 6 7 5 6 6 5 5 6 5 6 4 5 6 6 5\n",
      " 6 6 5 5 6 7 7 6 5 6 6 5 6 5 6 5 5 5 6 6 6 7 5 5 6 5 7 5 6 4 6 6 8 6 5 5 6\n",
      " 5 7 6 6 5 5 7 6 6 5 6 6 5 7 6 6 6 6 5 6 5 5 6 4]\n"
     ]
    }
   ],
   "source": [
    "x_train, x_test, y_train, y_test = train_test_split(x_bias, y, test_size=0.2, random_state=42)\n",
    "\n",
    "print(x_train)\n",
    "print(x_test)\n",
    "print(y_train)\n",
    "print(y_test)"
   ]
  },
  {
   "cell_type": "markdown",
   "metadata": {},
   "source": [
    "This is the calculation of the 'weights' of our model. These are terms applied to the input x values to calculate the output y values. The formula is\n",
    "\n",
    "b = (X^T . X) ^ -1 . X^T . y\n",
    "\n",
    "where X^T is the X matrix transposed. For more infromation on how linear regression is calculated in linear algebra, look at these two articles. The first one is easier to understand,\n",
    "and the second one is more indepth.\n",
    "\n",
    "https://machinelearningmastery.com/solve-linear-regression-using-linear-algebra/  \n",
    "https://xebia.com/blog/the-linear-algebra-behind-linear-regression/"
   ]
  },
  {
   "cell_type": "code",
   "execution_count": 62,
   "metadata": {},
   "outputs": [
    {
     "name": "stdout",
     "output_type": "stream",
     "text": [
      "[ 1.43551052e+01  2.30853339e-02 -1.00130443e+00 -1.40821461e-01\n",
      "  6.56431104e-03 -1.80650315e+00  5.62733439e-03 -3.64444893e-03\n",
      " -1.03515936e+01 -3.93687732e-01  8.41171623e-01  2.81889567e-01]\n"
     ]
    }
   ],
   "source": [
    "weights = np.linalg.inv(x_train.T.dot(x_train)).dot(x_train.T).dot(y_train)\n",
    "print(weights)"
   ]
  },
  {
   "cell_type": "markdown",
   "metadata": {},
   "source": [
    "Now, the predictions are calculated using our weights and testing values. This is done with a simple dot prodcut of the test data and weights we computed. We turn this into a dataframe  \n",
    "to compare it with the actual ground truth. Look at how they compare. Are they similar? Different? Close? Far?"
   ]
  },
  {
   "cell_type": "code",
   "execution_count": 63,
   "metadata": {},
   "outputs": [
    {
     "name": "stdout",
     "output_type": "stream",
     "text": [
      "     Actual  Predicted\n",
      "0         6   5.346664\n",
      "1         5   5.056313\n",
      "2         6   5.664470\n",
      "3         5   5.464515\n",
      "4         6   5.725185\n",
      "..      ...        ...\n",
      "315       6   5.688153\n",
      "316       5   5.232255\n",
      "317       5   5.280535\n",
      "318       6   6.272466\n",
      "319       4   5.197072\n",
      "\n",
      "[320 rows x 2 columns]\n"
     ]
    }
   ],
   "source": [
    "predictions = x_test.dot(weights)\n",
    "df_predictions = pd.DataFrame({'Actual': y_test, 'Predicted': predictions})\n",
    "print(df_predictions)"
   ]
  },
  {
   "cell_type": "markdown",
   "metadata": {},
   "source": [
    "To compare Linear Regression Models, RMSE (Root Mean Squared Error) and R^2 (Coefficient of dertermination) values are commonly used. I will link wiki pages to the functions below.\n",
    "\n",
    "https://en.wikipedia.org/wiki/Root-mean-square_deviation  \n",
    "https://en.wikipedia.org/wiki/Coefficient_of_determination"
   ]
  },
  {
   "cell_type": "code",
   "execution_count": 64,
   "metadata": {},
   "outputs": [],
   "source": [
    "mse = mean_squared_error(y_test, predictions)\n",
    "rmse = np.sqrt(mse)\n",
    "r_squared = r2_score(y_test, predictions)"
   ]
  },
  {
   "cell_type": "markdown",
   "metadata": {},
   "source": [
    "Finally, the output data is rounded and compared with the ground truth. Same questions as before, how close and similar is the data? RMSE and R^2 are printed with the accuracy of the model.   \n",
    "Model accuracy is not a good indicator for linear regression as 5.51 could be close enough to some data points, but would be rounded to 6. Also, 5.49 could be considered to far off, even if it  \n",
    "correctly rounded to 5. Thats why RMSE and R^2 are traditionally used."
   ]
  },
  {
   "cell_type": "code",
   "execution_count": 65,
   "metadata": {},
   "outputs": [
    {
     "name": "stdout",
     "output_type": "stream",
     "text": [
      "Rounded Predictions:\n",
      "     Actual  Rounded_Predicted\n",
      "0         6                  5\n",
      "1         5                  5\n",
      "2         6                  6\n",
      "3         5                  5\n",
      "4         6                  6\n",
      "..      ...                ...\n",
      "315       6                  6\n",
      "316       5                  5\n",
      "317       5                  5\n",
      "318       6                  6\n",
      "319       4                  5\n",
      "\n",
      "[320 rows x 2 columns]\n",
      "\n",
      "Accuracy Percentage: 57.1875 %\n",
      "\n",
      "Root Mean Squared Error: 0.6245199307049489\n",
      "\n",
      "R-Squared: 0.4031803414574944\n"
     ]
    }
   ],
   "source": [
    "df_predictions['Rounded_Predicted'] = df_predictions['Predicted'].round().astype(int)\n",
    "\n",
    "accurate_predictions = (df_predictions['Actual'] == df_predictions['Rounded_Predicted']).sum()\n",
    "total_predictions = len(df_predictions)\n",
    "accuracy_percentage = (accurate_predictions / total_predictions) * 100\n",
    "\n",
    "print(\"Rounded Predictions:\")\n",
    "print(df_predictions[['Actual', 'Rounded_Predicted']])\n",
    "\n",
    "print(\"\\nAccuracy Percentage:\", accuracy_percentage, \"%\")\n",
    "print(\"\\nRoot Mean Squared Error:\", rmse)\n",
    "print(\"\\nR-Squared:\", r_squared)"
   ]
  },
  {
   "cell_type": "markdown",
   "metadata": {},
   "source": [
    "Finally the model is printed with its line of best fit."
   ]
  },
  {
   "cell_type": "code",
   "execution_count": 66,
   "metadata": {},
   "outputs": [
    {
     "name": "stdout",
     "output_type": "stream",
     "text": [
      "Model Coefficients: [ 1.43551052e+01  2.30853339e-02 -1.00130443e+00 -1.40821461e-01\n",
      "  6.56431104e-03 -1.80650315e+00  5.62733439e-03 -3.64444893e-03\n",
      " -1.03515936e+01 -3.93687732e-01  8.41171623e-01  2.81889567e-01]\n"
     ]
    },
    {
     "data": {
      "image/png": "[encoded data removed]",
      "text/plain": [
       "<Figure size 640x480 with 1 Axes>"
      ]
     },
     "metadata": {},
     "output_type": "display_data"
    }
   ],
   "source": [
    "print(\"Model Coefficients:\", weights)\n",
    "\n",
    "plt.scatter(y_test, predictions, alpha=0.5)\n",
    "plt.plot([min(y_test), max(y_test)], [min(predictions), max(predictions)], linestyle='--', color='red', label='Ideal Line')\n",
    "plt.xlabel('Actual')\n",
    "plt.ylabel('Predicted')\n",
    "plt.title('Actual vs Predicted')\n",
    "plt.legend()\n",
    "plt.show()"
   ]
  }
 ],
 "metadata": {
  "kernelspec": {
   "display_name": "Python 3",
   "language": "python",
   "name": "python3"
  },
  "language_info": {
   "codemirror_mode": {
    "name": "ipython",
    "version": 3
   },
   "file_extension": ".py",
   "mimetype": "text/x-python",
   "name": "python",
   "nbconvert_exporter": "python",
   "pygments_lexer": "ipython3",
   "version": "3.11.4"
  }
 },
 "nbformat": 4,
 "nbformat_minor": 2
}
